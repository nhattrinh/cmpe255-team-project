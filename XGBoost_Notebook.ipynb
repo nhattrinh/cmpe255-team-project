{
 "cells": [
  {
   "cell_type": "markdown",
   "id": "aae3eb8f",
   "metadata": {},
   "source": [
    "# XGBoost Stock Forecasting"
   ]
  },
  {
   "cell_type": "code",
   "execution_count": 1,
   "id": "3cc6668f",
   "metadata": {},
   "outputs": [
    {
     "name": "stdout",
     "output_type": "stream",
     "text": [
      "Using pip 23.1.2 from /Users/nhtrinh/Desktop/cmpe255-team-project/venv/lib/python3.11/site-packages/pip (python 3.11)\n",
      "Collecting xgboost\n",
      "  Downloading xgboost-2.1.2.tar.gz (1.1 MB)\n",
      "\u001b[2K     \u001b[38;2;114;156;31m━━━━━━━━━━━━━━━━━━━━━━━━━━━━━━━━━━━━━━━━\u001b[0m \u001b[32m1.1/1.1 MB\u001b[0m \u001b[31m13.0 MB/s\u001b[0m eta \u001b[36m0:00:00\u001b[0m MB/s\u001b[0m eta \u001b[36m0:00:01\u001b[0m01\u001b[0m\n",
      "\u001b[?25h  Installing build dependencies ... \u001b[?25l  Running command pip subprocess to install build dependencies\n",
      "  Collecting hatchling>=1.12.1\n",
      "    Downloading hatchling-1.26.3-py3-none-any.whl (75 kB)\n",
      "  \u001b[?25l                                              0.0/75.8 kB ? eta -:--:--\n",
      "  \u001b[2K     ━━━━━━━━━━━━━━━━━━━━━━━━━━━━━━━━━━━━━━━━ 75.8/75.8 kB 3.3 MB/s eta 0:00:00\n",
      "  \u001b[?25hCollecting packaging>=21.3\n",
      "    Using cached packaging-24.2-py3-none-any.whl (65 kB)\n",
      "  Collecting pathspec>=0.10.1 (from hatchling>=1.12.1)\n",
      "    Using cached pathspec-0.12.1-py3-none-any.whl (31 kB)\n",
      "  Collecting pluggy>=1.0.0 (from hatchling>=1.12.1)\n",
      "    Downloading pluggy-1.5.0-py3-none-any.whl (20 kB)\n",
      "  Collecting trove-classifiers (from hatchling>=1.12.1)\n",
      "    Downloading trove_classifiers-2024.10.21.16-py3-none-any.whl (13 kB)\n",
      "  Installing collected packages: trove-classifiers, pluggy, pathspec, packaging, hatchling\n",
      "  Successfully installed hatchling-1.26.3 packaging-24.2 pathspec-0.12.1 pluggy-1.5.0 trove-classifiers-2024.10.21.16\n",
      "\n",
      "  [notice] A new release of pip is available: 23.1.2 -> 24.3.1\n",
      "  [notice] To update, run: pip install --upgrade pip\n",
      "\u001b[?25hdone\n",
      "  Getting requirements to build wheel ... \u001b[?25l  Running command Getting requirements to build wheel\n",
      "\u001b[?25hdone\n",
      "  Preparing metadata (pyproject.toml) ... \u001b[?25l  Running command Preparing metadata (pyproject.toml)\n",
      "  INFO:xgboost.packager.build_wheel:Parsed build configuration: {'hide_cxx_symbols': True, 'use_openmp': True, 'use_cuda': False, 'use_nccl': False, 'use_dlopen_nccl': False, 'plugin_federated': False, 'plugin_rmm': False, 'use_system_libxgboost': False}\n",
      "  INFO:xgboost.packager.build_wheel:Copying project files to temporary directory /var/folders/4n/_4ry_0s554l4_vdvytdyctym0000gn/T/tmpcvojr9gj/whl_workspace\n",
      "  INFO:xgboost.packager.build_wheel:Copying /private/var/folders/4n/_4ry_0s554l4_vdvytdyctym0000gn/T/pip-install-n6p5w12r/xgboost_9bfd841422b142a5a6cd8b6a740a590f/pyproject.toml -> /var/folders/4n/_4ry_0s554l4_vdvytdyctym0000gn/T/tmpcvojr9gj/whl_workspace/pyproject.toml\n",
      "  INFO:xgboost.packager.build_wheel:Copying /private/var/folders/4n/_4ry_0s554l4_vdvytdyctym0000gn/T/pip-install-n6p5w12r/xgboost_9bfd841422b142a5a6cd8b6a740a590f/hatch_build.py -> /var/folders/4n/_4ry_0s554l4_vdvytdyctym0000gn/T/tmpcvojr9gj/whl_workspace/hatch_build.py\n",
      "  INFO:xgboost.packager.build_wheel:Copying /private/var/folders/4n/_4ry_0s554l4_vdvytdyctym0000gn/T/pip-install-n6p5w12r/xgboost_9bfd841422b142a5a6cd8b6a740a590f/README.rst -> /var/folders/4n/_4ry_0s554l4_vdvytdyctym0000gn/T/tmpcvojr9gj/whl_workspace/README.rst\n",
      "  INFO:xgboost.packager.build_wheel:Copying /private/var/folders/4n/_4ry_0s554l4_vdvytdyctym0000gn/T/pip-install-n6p5w12r/xgboost_9bfd841422b142a5a6cd8b6a740a590f/xgboost -> /var/folders/4n/_4ry_0s554l4_vdvytdyctym0000gn/T/tmpcvojr9gj/whl_workspace/xgboost\n",
      "  INFO:xgboost.packager.build_libxgboost:Building libxgboost.dylib from the C++ source files in /private/var/folders/4n/_4ry_0s554l4_vdvytdyctym0000gn/T/pip-install-n6p5w12r/xgboost_9bfd841422b142a5a6cd8b6a740a590f/cpp_src...\n",
      "  INFO:xgboost.packager.build_libxgboost:CMake args: ['cmake', '/private/var/folders/4n/_4ry_0s554l4_vdvytdyctym0000gn/T/pip-install-n6p5w12r/xgboost_9bfd841422b142a5a6cd8b6a740a590f/cpp_src', '-GUnix Makefiles', '-DKEEP_BUILD_ARTIFACTS_IN_BINARY_DIR=ON', '-DHIDE_CXX_SYMBOLS=ON', '-DUSE_OPENMP=ON', '-DUSE_CUDA=OFF', '-DUSE_NCCL=OFF', '-DUSE_DLOPEN_NCCL=OFF', '-DPLUGIN_FEDERATED=OFF', '-DPLUGIN_RMM=OFF']\n",
      "  Traceback (most recent call last):\n",
      "    File \"/Users/nhtrinh/Desktop/cmpe255-team-project/venv/lib/python3.11/site-packages/pip/_vendor/pyproject_hooks/_in_process/_in_process.py\", line 353, in <module>\n",
      "      main()\n",
      "    File \"/Users/nhtrinh/Desktop/cmpe255-team-project/venv/lib/python3.11/site-packages/pip/_vendor/pyproject_hooks/_in_process/_in_process.py\", line 335, in main\n",
      "      json_out['return_val'] = hook(**hook_input['kwargs'])\n",
      "                               ^^^^^^^^^^^^^^^^^^^^^^^^^^^^\n",
      "    File \"/Users/nhtrinh/Desktop/cmpe255-team-project/venv/lib/python3.11/site-packages/pip/_vendor/pyproject_hooks/_in_process/_in_process.py\", line 152, in prepare_metadata_for_build_wheel\n",
      "      whl_basename = backend.build_wheel(metadata_directory, config_settings)\n",
      "                     ^^^^^^^^^^^^^^^^^^^^^^^^^^^^^^^^^^^^^^^^^^^^^^^^^^^^^^^^\n",
      "    File \"/private/var/folders/4n/_4ry_0s554l4_vdvytdyctym0000gn/T/pip-install-n6p5w12r/xgboost_9bfd841422b142a5a6cd8b6a740a590f/packager/pep517.py\", line 80, in build_wheel\n",
      "      libxgboost = locate_or_build_libxgboost(\n",
      "                   ^^^^^^^^^^^^^^^^^^^^^^^^^^^\n",
      "    File \"/private/var/folders/4n/_4ry_0s554l4_vdvytdyctym0000gn/T/pip-install-n6p5w12r/xgboost_9bfd841422b142a5a6cd8b6a740a590f/packager/nativelib.py\", line 171, in locate_or_build_libxgboost\n",
      "      return build_libxgboost(cpp_src_dir, build_dir=build_dir, build_config=build_config)\n",
      "             ^^^^^^^^^^^^^^^^^^^^^^^^^^^^^^^^^^^^^^^^^^^^^^^^^^^^^^^^^^^^^^^^^^^^^^^^^^^^^\n",
      "    File \"/private/var/folders/4n/_4ry_0s554l4_vdvytdyctym0000gn/T/pip-install-n6p5w12r/xgboost_9bfd841422b142a5a6cd8b6a740a590f/packager/nativelib.py\", line 100, in build_libxgboost\n",
      "      _build(generator=generator)\n",
      "    File \"/private/var/folders/4n/_4ry_0s554l4_vdvytdyctym0000gn/T/pip-install-n6p5w12r/xgboost_9bfd841422b142a5a6cd8b6a740a590f/packager/nativelib.py\", line 57, in _build\n",
      "      subprocess.check_call(cmake_cmd, cwd=build_dir)\n",
      "    File \"/Users/nhtrinh/.pyenv/versions/3.11.4/lib/python3.11/subprocess.py\", line 408, in check_call\n",
      "      retcode = call(*popenargs, **kwargs)\n",
      "                ^^^^^^^^^^^^^^^^^^^^^^^^^^\n",
      "    File \"/Users/nhtrinh/.pyenv/versions/3.11.4/lib/python3.11/subprocess.py\", line 389, in call\n",
      "      with Popen(*popenargs, **kwargs) as p:\n",
      "           ^^^^^^^^^^^^^^^^^^^^^^^^^^^\n",
      "    File \"/Users/nhtrinh/.pyenv/versions/3.11.4/lib/python3.11/subprocess.py\", line 1026, in __init__\n",
      "      self._execute_child(args, executable, preexec_fn, close_fds,\n",
      "    File \"/Users/nhtrinh/.pyenv/versions/3.11.4/lib/python3.11/subprocess.py\", line 1950, in _execute_child\n",
      "      raise child_exception_type(errno_num, err_msg, err_filename)\n",
      "  FileNotFoundError: [Errno 2] No such file or directory: 'cmake'\n",
      "  \u001b[1;31merror\u001b[0m: \u001b[1msubprocess-exited-with-error\u001b[0m\n",
      "  \n",
      "  \u001b[31m×\u001b[0m \u001b[32mPreparing metadata \u001b[0m\u001b[1;32m(\u001b[0m\u001b[32mpyproject.toml\u001b[0m\u001b[1;32m)\u001b[0m did not run successfully.\n",
      "  \u001b[31m│\u001b[0m exit code: \u001b[1;36m1\u001b[0m\n",
      "  \u001b[31m╰─>\u001b[0m See above for output.\n",
      "  \n",
      "  \u001b[1;35mnote\u001b[0m: This error originates from a subprocess, and is likely not a problem with pip.\n",
      "  \u001b[1;35mfull command\u001b[0m: \u001b[34m/Users/nhtrinh/Desktop/cmpe255-team-project/venv/bin/python /Users/nhtrinh/Desktop/cmpe255-team-project/venv/lib/python3.11/site-packages/pip/_vendor/pyproject_hooks/_in_process/_in_process.py prepare_metadata_for_build_wheel /var/folders/4n/_4ry_0s554l4_vdvytdyctym0000gn/T/tmpl_bisicm\u001b[0m\n",
      "  \u001b[1;35mcwd\u001b[0m: /private/var/folders/4n/_4ry_0s554l4_vdvytdyctym0000gn/T/pip-install-n6p5w12r/xgboost_9bfd841422b142a5a6cd8b6a740a590f\n",
      "\u001b[?25herror\n",
      "\u001b[1;31merror\u001b[0m: \u001b[1mmetadata-generation-failed\u001b[0m\n",
      "\n",
      "\u001b[31m×\u001b[0m Encountered error while generating package metadata.\n",
      "\u001b[31m╰─>\u001b[0m See above for output.\n",
      "\n",
      "\u001b[1;35mnote\u001b[0m: This is an issue with the package mentioned above, not pip.\n",
      "\u001b[1;36mhint\u001b[0m: See above for details.\n",
      "\n",
      "\u001b[1m[\u001b[0m\u001b[34;49mnotice\u001b[0m\u001b[1;39;49m]\u001b[0m\u001b[39;49m A new release of pip is available: \u001b[0m\u001b[31;49m23.1.2\u001b[0m\u001b[39;49m -> \u001b[0m\u001b[32;49m24.3.1\u001b[0m\n",
      "\u001b[1m[\u001b[0m\u001b[34;49mnotice\u001b[0m\u001b[1;39;49m]\u001b[0m\u001b[39;49m To update, run: \u001b[0m\u001b[32;49mpip install --upgrade pip\u001b[0m\n",
      "Note: you may need to restart the kernel to use updated packages.\n"
     ]
    }
   ],
   "source": [
    "%pip install xgboost --no-binary xgboost -v"
   ]
  },
  {
   "cell_type": "code",
   "execution_count": 2,
   "id": "5bd3024d",
   "metadata": {},
   "outputs": [
    {
     "ename": "ModuleNotFoundError",
     "evalue": "No module named 'xgboost'",
     "output_type": "error",
     "traceback": [
      "\u001b[0;31m---------------------------------------------------------------------------\u001b[0m",
      "\u001b[0;31mModuleNotFoundError\u001b[0m                       Traceback (most recent call last)",
      "Cell \u001b[0;32mIn[2], line 8\u001b[0m\n\u001b[1;32m      6\u001b[0m \u001b[38;5;28;01mfrom\u001b[39;00m \u001b[38;5;21;01mpandas\u001b[39;00m \u001b[38;5;28;01mimport\u001b[39;00m DataFrame, concat\n\u001b[1;32m      7\u001b[0m \u001b[38;5;28;01mfrom\u001b[39;00m \u001b[38;5;21;01msklearn\u001b[39;00m\u001b[38;5;21;01m.\u001b[39;00m\u001b[38;5;21;01mmetrics\u001b[39;00m \u001b[38;5;28;01mimport\u001b[39;00m mean_absolute_error\n\u001b[0;32m----> 8\u001b[0m \u001b[38;5;28;01mfrom\u001b[39;00m \u001b[38;5;21;01mxgboost\u001b[39;00m \u001b[38;5;28;01mimport\u001b[39;00m XGBRegressor\n",
      "\u001b[0;31mModuleNotFoundError\u001b[0m: No module named 'xgboost'"
     ]
    }
   ],
   "source": [
    "import matplotlib\n",
    "import matplotlib.pyplot as plt\n",
    "import numpy as np\n",
    "import pandas as pd\n",
    "from numpy import asarray\n",
    "from pandas import DataFrame, concat\n",
    "from sklearn.metrics import mean_absolute_error\n",
    "from xgboost import XGBRegressor"
   ]
  },
  {
   "cell_type": "code",
   "execution_count": null,
   "id": "1ecf7a7b",
   "metadata": {},
   "outputs": [],
   "source": [
    "DATA_FILENAME = \"weekly_adjusted_SPY.csv\"\n",
    "STOCK_SYMBOL = \"SPY\""
   ]
  },
  {
   "cell_type": "code",
   "execution_count": null,
   "id": "6c79e832",
   "metadata": {},
   "outputs": [],
   "source": [
    "def load_dataset() -> pd.DataFrame:\n",
    "    # Load the dataset\n",
    "    data = pd.read_csv(f\"data/{DATA_FILENAME}\")\n",
    "    data = data[['timestamp', 'adjusted close', 'volume']]\n",
    "    data['timestamp'] = pd.to_datetime(data['timestamp'])\n",
    "    data.sort_values('timestamp', inplace=True)\n",
    "\n",
    "    # Prepare the data\n",
    "    data['adjusted close'] = data['adjusted close'].astype(float)\n",
    "    data['volume'] = data['volume'].astype(float)\n",
    "    series = data[['adjusted close', 'volume']].values\n",
    "\n",
    "    return series"
   ]
  },
  {
   "cell_type": "code",
   "execution_count": null,
   "id": "1f4bb8a6",
   "metadata": {},
   "outputs": [],
   "source": [
    "\n",
    "# Transform a time series dataset into supervised learning\n",
    "def series_to_supervised(data, n_in=1, n_out=1, dropnan=True):\n",
    "    df = DataFrame(data)\n",
    "    cols = list()\n",
    "    for i in range(n_in, 0, -1):\n",
    "        cols.append(df.shift(i))\n",
    "    for i in range(0, n_out):\n",
    "        cols.append(df.shift(-i))\n",
    "    agg = concat(cols, axis=1)\n",
    "    if dropnan:\n",
    "        agg.dropna(inplace=True)\n",
    "    return agg.values"
   ]
  },
  {
   "cell_type": "code",
   "execution_count": null,
   "id": "5787e55a",
   "metadata": {},
   "outputs": [],
   "source": [
    "\n",
    "# Split dataset into train/test sets\n",
    "def train_test_split(data, n_test):\n",
    "    return data[:-n_test, :], data[-n_test:, :]"
   ]
  },
  {
   "cell_type": "code",
   "execution_count": null,
   "id": "dd312aa2",
   "metadata": {},
   "outputs": [],
   "source": [
    "def xgboost_forecast(train, testX):\n",
    "    # XGBoost model\n",
    "    train = asarray(train)\n",
    "    trainX, trainy = train[:, :-1], train[:, -1]\n",
    "    model = XGBRegressor(objective='reg:squarederror', n_estimators=1000)\n",
    "    model.fit(trainX, trainy)\n",
    "    yhat = model.predict(asarray([testX]))\n",
    "    return yhat[0]\n",
    "\n",
    "\n",
    "def walk_forward_validation(data, n_test):\n",
    "    # Walk-forward validation\n",
    "    predictions = list()\n",
    "    train, test = train_test_split(data, n_test)\n",
    "    history = [x for x in train]\n",
    "    for i in range(len(test)):\n",
    "        testX, test_y = test[i, :-1], test[i, -1]\n",
    "        yhat = xgboost_forecast(history, testX)\n",
    "        predictions.append(yhat)\n",
    "        history.append(test[i])\n",
    "    return test[:, -1], predictions\n",
    "\n",
    "\n",
    "\n",
    "# Prepare data\n",
    "series = load_dataset()\n",
    "n_in = 6\n",
    "supervised = series_to_supervised(series, n_in=n_in)\n",
    "n_test = 50\n",
    "\n",
    "# Evaluate\n",
    "y, yhat = walk_forward_validation(supervised, n_test)"
   ]
  },
  {
   "cell_type": "code",
   "execution_count": null,
   "id": "ee8446b1",
   "metadata": {},
   "outputs": [],
   "source": [
    "# Plot the results\n",
    "plt.title(\n",
    "    f'Stock Forecast vs Actual for {STOCK_SYMBOL} - '\n",
    "    + pd.Timestamp.now().strftime(\"%Y-%m-%d\")\n",
    ")\n",
    "plt.plot(y, label='Expected')\n",
    "plt.plot(yhat, label='Predicted')\n",
    "plt.legend()\n",
    "# If FigureCanvasAgg is interactive show plot\n",
    "if matplotlib.is_interactive():\n",
    "    plt.show()\n",
    "else:\n",
    "    plt.savefig(f'output/XGBoost_{STOCK_SYMBOL}_forecast.png')"
   ]
  }
 ],
 "metadata": {
  "kernelspec": {
   "display_name": "venv",
   "language": "python",
   "name": "python3"
  },
  "language_info": {
   "codemirror_mode": {
    "name": "ipython",
    "version": 3
   },
   "file_extension": ".py",
   "mimetype": "text/x-python",
   "name": "python",
   "nbconvert_exporter": "python",
   "pygments_lexer": "ipython3",
   "version": "3.11.4"
  }
 },
 "nbformat": 4,
 "nbformat_minor": 5
}
