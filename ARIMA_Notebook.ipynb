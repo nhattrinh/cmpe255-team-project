{
 "cells": [
  {
   "cell_type": "markdown",
   "id": "e3d0b04b",
   "metadata": {},
   "source": [
    "# ARIMA Stock Forecasting"
   ]
  },
  {
   "cell_type": "code",
   "execution_count": null,
   "id": "68bd1849",
   "metadata": {},
   "outputs": [
    {
     "ename": "",
     "evalue": "",
     "output_type": "error",
     "traceback": [
      "\u001b[1;31mRunning cells with 'Python 3.11.4' requires the ipykernel package.\n",
      "\u001b[1;31mRun the following command to install 'ipykernel' into the Python environment. \n",
      "\u001b[1;31mCommand: '/Users/nhtrinh/.pyenv/versions/3.11.4/bin/python -m pip install ipykernel -U --force-reinstall'"
     ]
    }
   ],
   "source": [
    "import matplotlib\n",
    "import pandas as pd\n",
    "import matplotlib.pyplot as plt\n",
    "from statsmodels.tsa.arima.model import ARIMA\n",
    "from sklearn.metrics import mean_squared_error\n",
    "from math import sqrt"
   ]
  },
  {
   "cell_type": "code",
   "execution_count": null,
   "id": "f9dd656a",
   "metadata": {},
   "outputs": [],
   "source": [
    "STOCK_SYMBOL = \"SPY\"\n",
    "DATA_FILENAME = \"weekly_adjusted_SPY.csv\""
   ]
  },
  {
   "cell_type": "code",
   "execution_count": null,
   "id": "ffe890d9",
   "metadata": {},
   "outputs": [],
   "source": [
    "def load_dataset() -> pd.DataFrame:\n",
    "    # Load the dataset\n",
    "    data = pd.read_csv(f\"data/{DATA_FILENAME}\")\n",
    "    data = data[['timestamp', 'adjusted close']]\n",
    "    data['timestamp'] = pd.to_datetime(data['timestamp'])\n",
    "    data.sort_values('timestamp', inplace=True)\n",
    "\n",
    "    # Prepare the data\n",
    "    data['adjusted close'] = data['adjusted close'].astype(float)\n",
    "    series = data['adjusted close'].values\n",
    "\n",
    "    return series"
   ]
  },
  {
   "cell_type": "code",
   "execution_count": null,
   "id": "89142e08",
   "metadata": {},
   "outputs": [],
   "source": [
    "# Prepare data for ARIMA\n",
    "series = load_dataset()\n",
    "# Split the dataset\n",
    "train_size = int(len(series) * 0.8)\n",
    "train, test = series[:train_size], series[train_size:]\n",
    "\n",
    "# ARIMA model\n",
    "history = list(train)\n",
    "predictions = []\n",
    "\n",
    "for t in range(len(test)):\n",
    "    model = ARIMA(history, order=(5, 1, 0))\n",
    "    model_fit = model.fit()\n",
    "    yhat = model_fit.forecast()[0]\n",
    "    predictions.append(yhat)\n",
    "    history.append(test[t])\n",
    "\n",
    "# Evaluate the model\n",
    "rmse = sqrt(mean_squared_error(test, predictions))\n",
    "print(f\"Test RMSE: {rmse:.3f}\")\n",
    "\n",
    "# Plot the results\n",
    "plt.title(\n",
    "    f'Stock Forecast vs Actual for {STOCK_SYMBOL} - '\n",
    "    + pd.Timestamp.now().strftime(\"%Y-%m-%d\")\n",
    ")\n",
    "plt.plot(test, label=\"Actual\")\n",
    "plt.plot(predictions, label=\"Predicted\", color=\"red\")\n",
    "plt.legend()\n",
    "# If FigureCanvasAgg is interactive show plot\n",
    "if matplotlib.is_interactive():\n",
    "    plt.show()\n",
    "else:\n",
    "    plt.savefig(f'output/ARIMA_{STOCK_SYMBOL}_forecast.png')"
   ]
  }
 ],
 "metadata": {
  "kernelspec": {
   "display_name": "Python 3",
   "language": "python",
   "name": "python3"
  },
  "language_info": {
   "name": "python",
   "version": "3.11.4"
  }
 },
 "nbformat": 4,
 "nbformat_minor": 5
}
